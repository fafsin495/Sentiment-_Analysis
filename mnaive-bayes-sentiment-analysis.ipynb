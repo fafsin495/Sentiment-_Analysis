{
 "cells": [
  {
   "cell_type": "markdown",
   "metadata": {
    "papermill": {
     "duration": 0.01904,
     "end_time": "2021-01-07T19:57:03.441869",
     "exception": false,
     "start_time": "2021-01-07T19:57:03.422829",
     "status": "completed"
    },
    "tags": []
   },
   "source": [
    "# Sentiment Analysis with Multinomal Naive Bayes Algorithm\n",
    "\n",
    "1. [Loading and Preparing The Dataset](#1)\n",
    "1. [Data Visualization](#2)\n",
    "1. [Data Preprocessing](#3)\n",
    "1. [Train Test Split](#4)\n",
    "1. [Count Vectorizer](#5)\n",
    "1. [TFIDF Vecktorizer](#6)\n",
    "1. [Train Model - Multinomial Naive Bayes Algorithm](#7)\n",
    "1. [Prediction to model](#8)\n",
    "\n",
    "    "
   ]
  },
  {
   "cell_type": "code",
   "execution_count": 1,
   "metadata": {
    "_cell_guid": "b1076dfc-b9ad-4769-8c92-a6c4dae69d19",
    "_uuid": "8f2839f25d086af736a60e9eeb907d3b93b6e0e5",
    "execution": {
     "iopub.execute_input": "2021-01-07T19:57:03.485114Z",
     "iopub.status.busy": "2021-01-07T19:57:03.484452Z",
     "iopub.status.idle": "2021-01-07T19:57:03.496740Z",
     "shell.execute_reply": "2021-01-07T19:57:03.496073Z"
    },
    "papermill": {
     "duration": 0.036351,
     "end_time": "2021-01-07T19:57:03.496846",
     "exception": false,
     "start_time": "2021-01-07T19:57:03.460495",
     "status": "completed"
    },
    "tags": []
   },
   "outputs": [
    {
     "name": "stdout",
     "output_type": "stream",
     "text": [
      "/kaggle/input/duygu-analizi/pos.txt\n",
      "/kaggle/input/duygu-analizi/neg_reviews.txt\n"
     ]
    }
   ],
   "source": [
    "# This Python 3 environment comes with many helpful analytics libraries installed\n",
    "# It is defined by the kaggle/python Docker image: https://github.com/kaggle/docker-python\n",
    "# For example, here's several helpful packages to load\n",
    "\n",
    "import numpy as np # linear algebra\n",
    "import pandas as pd # data processing, CSV file I/O (e.g. pd.read_csv)\n",
    "\n",
    "# Input data files are available in the read-only \"../input/\" directory\n",
    "# For example, running this (by clicking run or pressing Shift+Enter) will list all files under the input directory\n",
    "\n",
    "import os\n",
    "for dirname, _, filenames in os.walk('/kaggle/input'):\n",
    "    for filename in filenames:\n",
    "        print(os.path.join(dirname, filename))\n",
    "\n",
    "# You can write up to 20GB to the current directory (/kaggle/working/) that gets preserved as output when you create a version using \"Save & Run All\" \n",
    "# You can also write temporary files to /kaggle/temp/, but they won't be saved outside of the current session"
   ]
  },
  {
   "cell_type": "markdown",
   "metadata": {
    "papermill": {
     "duration": 0.018623,
     "end_time": "2021-01-07T19:57:03.535095",
     "exception": false,
     "start_time": "2021-01-07T19:57:03.516472",
     "status": "completed"
    },
    "tags": []
   },
   "source": [
    "<a id=\"1\"></a> <br>\n",
    "\n",
    "# Loading and Preparing The Dataset\n"
   ]
  },
  {
   "cell_type": "code",
   "execution_count": 2,
   "metadata": {
    "_cell_guid": "79c7e3d0-c299-4dcb-8224-4455121ee9b0",
    "_uuid": "d629ff2d2480ee46fbb7e2d37f6b5fab8052498a",
    "execution": {
     "iopub.execute_input": "2021-01-07T19:57:03.580581Z",
     "iopub.status.busy": "2021-01-07T19:57:03.579698Z",
     "iopub.status.idle": "2021-01-07T19:57:03.700889Z",
     "shell.execute_reply": "2021-01-07T19:57:03.701439Z"
    },
    "papermill": {
     "duration": 0.147677,
     "end_time": "2021-01-07T19:57:03.701587",
     "exception": false,
     "start_time": "2021-01-07T19:57:03.553910",
     "status": "completed"
    },
    "tags": []
   },
   "outputs": [
    {
     "data": {
      "text/html": [
       "<div>\n",
       "<style scoped>\n",
       "    .dataframe tbody tr th:only-of-type {\n",
       "        vertical-align: middle;\n",
       "    }\n",
       "\n",
       "    .dataframe tbody tr th {\n",
       "        vertical-align: top;\n",
       "    }\n",
       "\n",
       "    .dataframe thead th {\n",
       "        text-align: right;\n",
       "    }\n",
       "</style>\n",
       "<table border=\"1\" class=\"dataframe\">\n",
       "  <thead>\n",
       "    <tr style=\"text-align: right;\">\n",
       "      <th></th>\n",
       "      <th>text</th>\n",
       "      <th>label</th>\n",
       "    </tr>\n",
       "  </thead>\n",
       "  <tbody>\n",
       "    <tr>\n",
       "      <th>0</th>\n",
       "      <td>ürün fena değil. sinekliği yapıştırmak için al...</td>\n",
       "      <td>neg</td>\n",
       "    </tr>\n",
       "    <tr>\n",
       "      <th>1</th>\n",
       "      <td>ürün gerçekten çok ses çıkartıyor rahatsız edi...</td>\n",
       "      <td>neg</td>\n",
       "    </tr>\n",
       "    <tr>\n",
       "      <th>2</th>\n",
       "      <td>-araba çok ağır</td>\n",
       "      <td>neg</td>\n",
       "    </tr>\n",
       "    <tr>\n",
       "      <th>3</th>\n",
       "      <td>arkadaslar kesinlikle kalici falan değil esime...</td>\n",
       "      <td>neg</td>\n",
       "    </tr>\n",
       "    <tr>\n",
       "      <th>4</th>\n",
       "      <td>arkadaşlar ürün bir def kullanılmak üzere üret...</td>\n",
       "      <td>neg</td>\n",
       "    </tr>\n",
       "  </tbody>\n",
       "</table>\n",
       "</div>"
      ],
      "text/plain": [
       "                                                text label\n",
       "0  ürün fena değil. sinekliği yapıştırmak için al...   neg\n",
       "1  ürün gerçekten çok ses çıkartıyor rahatsız edi...   neg\n",
       "2                                    -araba çok ağır   neg\n",
       "3  arkadaslar kesinlikle kalici falan değil esime...   neg\n",
       "4  arkadaşlar ürün bir def kullanılmak üzere üret...   neg"
      ]
     },
     "execution_count": 2,
     "metadata": {},
     "output_type": "execute_result"
    }
   ],
   "source": [
    "# Data Set Consisting of Negative Data\n",
    "neg = pd.read_csv(\"/kaggle/input/duygu-analizi/neg_reviews.txt\",delimiter = \"\\t\")\n",
    "neg = neg.sample(frac=1).reset_index(drop=True)\n",
    "neg[\"label\"] = \"neg\"\n",
    "\n",
    "neg.rename(columns = {\"beklentimin altında bir ürün kaliteli değil\":\"text\"},inplace=True)\n",
    "neg.head()"
   ]
  },
  {
   "cell_type": "code",
   "execution_count": 3,
   "metadata": {
    "execution": {
     "iopub.execute_input": "2021-01-07T19:57:03.746204Z",
     "iopub.status.busy": "2021-01-07T19:57:03.745494Z",
     "iopub.status.idle": "2021-01-07T19:57:03.749924Z",
     "shell.execute_reply": "2021-01-07T19:57:03.749320Z"
    },
    "papermill": {
     "duration": 0.029151,
     "end_time": "2021-01-07T19:57:03.750053",
     "exception": false,
     "start_time": "2021-01-07T19:57:03.720902",
     "status": "completed"
    },
    "tags": []
   },
   "outputs": [
    {
     "data": {
      "text/plain": [
       "(14878, 2)"
      ]
     },
     "execution_count": 3,
     "metadata": {},
     "output_type": "execute_result"
    }
   ],
   "source": [
    "neg.shape "
   ]
  },
  {
   "cell_type": "code",
   "execution_count": 4,
   "metadata": {
    "execution": {
     "iopub.execute_input": "2021-01-07T19:57:03.799315Z",
     "iopub.status.busy": "2021-01-07T19:57:03.798648Z",
     "iopub.status.idle": "2021-01-07T19:57:05.089125Z",
     "shell.execute_reply": "2021-01-07T19:57:05.088584Z"
    },
    "papermill": {
     "duration": 1.318834,
     "end_time": "2021-01-07T19:57:05.089236",
     "exception": false,
     "start_time": "2021-01-07T19:57:03.770402",
     "status": "completed"
    },
    "tags": []
   },
   "outputs": [
    {
     "data": {
      "text/html": [
       "<div>\n",
       "<style scoped>\n",
       "    .dataframe tbody tr th:only-of-type {\n",
       "        vertical-align: middle;\n",
       "    }\n",
       "\n",
       "    .dataframe tbody tr th {\n",
       "        vertical-align: top;\n",
       "    }\n",
       "\n",
       "    .dataframe thead th {\n",
       "        text-align: right;\n",
       "    }\n",
       "</style>\n",
       "<table border=\"1\" class=\"dataframe\">\n",
       "  <thead>\n",
       "    <tr style=\"text-align: right;\">\n",
       "      <th></th>\n",
       "      <th>text</th>\n",
       "      <th>label</th>\n",
       "    </tr>\n",
       "  </thead>\n",
       "  <tbody>\n",
       "    <tr>\n",
       "      <th>0</th>\n",
       "      <td>1 seneden fazladır kullanıyorum. bence tavada ...</td>\n",
       "      <td>pos</td>\n",
       "    </tr>\n",
       "    <tr>\n",
       "      <th>1</th>\n",
       "      <td>urun guzel buyuk ekranli radyosu net cekiyo bu...</td>\n",
       "      <td>pos</td>\n",
       "    </tr>\n",
       "    <tr>\n",
       "      <th>2</th>\n",
       "      <td>bu fi̇yata güzel bi̇r ürün tavsi̇ye ederi̇m.ya...</td>\n",
       "      <td>pos</td>\n",
       "    </tr>\n",
       "    <tr>\n",
       "      <th>3</th>\n",
       "      <td>hoş bir ürün.lekeleri çıkarmada başarılı. özel...</td>\n",
       "      <td>pos</td>\n",
       "    </tr>\n",
       "    <tr>\n",
       "      <th>4</th>\n",
       "      <td>sonuç olarak bence fiyat-kalite oranı yüksek b...</td>\n",
       "      <td>pos</td>\n",
       "    </tr>\n",
       "  </tbody>\n",
       "</table>\n",
       "</div>"
      ],
      "text/plain": [
       "                                                text label\n",
       "0  1 seneden fazladır kullanıyorum. bence tavada ...   pos\n",
       "1  urun guzel buyuk ekranli radyosu net cekiyo bu...   pos\n",
       "2  bu fi̇yata güzel bi̇r ürün tavsi̇ye ederi̇m.ya...   pos\n",
       "3  hoş bir ürün.lekeleri çıkarmada başarılı. özel...   pos\n",
       "4  sonuç olarak bence fiyat-kalite oranı yüksek b...   pos"
      ]
     },
     "execution_count": 4,
     "metadata": {},
     "output_type": "execute_result"
    }
   ],
   "source": [
    "#Data Set Consisting of Positive Data\n",
    "pos = pd.read_csv(\"/kaggle/input/duygu-analizi/pos.txt\",delimiter = \"\\t\")\n",
    "pos = pos.sample(frac=1).reset_index(drop=True)\n",
    "pos[\"label\"] = \"pos\"\n",
    "pos.rename(columns={\"fena değil paraya göre iyi.\":\"text\"},inplace=True)\n",
    "pos.head()"
   ]
  },
  {
   "cell_type": "code",
   "execution_count": 5,
   "metadata": {
    "execution": {
     "iopub.execute_input": "2021-01-07T19:57:05.134923Z",
     "iopub.status.busy": "2021-01-07T19:57:05.134296Z",
     "iopub.status.idle": "2021-01-07T19:57:05.137559Z",
     "shell.execute_reply": "2021-01-07T19:57:05.138191Z"
    },
    "papermill": {
     "duration": 0.028826,
     "end_time": "2021-01-07T19:57:05.138324",
     "exception": false,
     "start_time": "2021-01-07T19:57:05.109498",
     "status": "completed"
    },
    "tags": []
   },
   "outputs": [
    {
     "data": {
      "text/plain": [
       "(219743, 2)"
      ]
     },
     "execution_count": 5,
     "metadata": {},
     "output_type": "execute_result"
    }
   ],
   "source": [
    "pos.shape"
   ]
  },
  {
   "cell_type": "code",
   "execution_count": 6,
   "metadata": {
    "execution": {
     "iopub.execute_input": "2021-01-07T19:57:05.187149Z",
     "iopub.status.busy": "2021-01-07T19:57:05.185968Z",
     "iopub.status.idle": "2021-01-07T19:57:05.198472Z",
     "shell.execute_reply": "2021-01-07T19:57:05.199056Z"
    },
    "papermill": {
     "duration": 0.040084,
     "end_time": "2021-01-07T19:57:05.199192",
     "exception": false,
     "start_time": "2021-01-07T19:57:05.159108",
     "status": "completed"
    },
    "tags": []
   },
   "outputs": [
    {
     "data": {
      "text/html": [
       "<div>\n",
       "<style scoped>\n",
       "    .dataframe tbody tr th:only-of-type {\n",
       "        vertical-align: middle;\n",
       "    }\n",
       "\n",
       "    .dataframe tbody tr th {\n",
       "        vertical-align: top;\n",
       "    }\n",
       "\n",
       "    .dataframe thead th {\n",
       "        text-align: right;\n",
       "    }\n",
       "</style>\n",
       "<table border=\"1\" class=\"dataframe\">\n",
       "  <thead>\n",
       "    <tr style=\"text-align: right;\">\n",
       "      <th></th>\n",
       "      <th>text</th>\n",
       "      <th>label</th>\n",
       "    </tr>\n",
       "  </thead>\n",
       "  <tbody>\n",
       "    <tr>\n",
       "      <th>0</th>\n",
       "      <td>1 seneden fazladır kullanıyorum. bence tavada ...</td>\n",
       "      <td>pos</td>\n",
       "    </tr>\n",
       "    <tr>\n",
       "      <th>1</th>\n",
       "      <td>urun guzel buyuk ekranli radyosu net cekiyo bu...</td>\n",
       "      <td>pos</td>\n",
       "    </tr>\n",
       "    <tr>\n",
       "      <th>2</th>\n",
       "      <td>bu fi̇yata güzel bi̇r ürün tavsi̇ye ederi̇m.ya...</td>\n",
       "      <td>pos</td>\n",
       "    </tr>\n",
       "    <tr>\n",
       "      <th>3</th>\n",
       "      <td>hoş bir ürün.lekeleri çıkarmada başarılı. özel...</td>\n",
       "      <td>pos</td>\n",
       "    </tr>\n",
       "    <tr>\n",
       "      <th>4</th>\n",
       "      <td>sonuç olarak bence fiyat-kalite oranı yüksek b...</td>\n",
       "      <td>pos</td>\n",
       "    </tr>\n",
       "  </tbody>\n",
       "</table>\n",
       "</div>"
      ],
      "text/plain": [
       "                                                text label\n",
       "0  1 seneden fazladır kullanıyorum. bence tavada ...   pos\n",
       "1  urun guzel buyuk ekranli radyosu net cekiyo bu...   pos\n",
       "2  bu fi̇yata güzel bi̇r ürün tavsi̇ye ederi̇m.ya...   pos\n",
       "3  hoş bir ürün.lekeleri çıkarmada başarılı. özel...   pos\n",
       "4  sonuç olarak bence fiyat-kalite oranı yüksek b...   pos"
      ]
     },
     "execution_count": 6,
     "metadata": {},
     "output_type": "execute_result"
    }
   ],
   "source": [
    "df = pd.concat([pos[:neg.shape[0]],neg],ignore_index=True)\n",
    "df.head()"
   ]
  },
  {
   "cell_type": "code",
   "execution_count": 7,
   "metadata": {
    "execution": {
     "iopub.execute_input": "2021-01-07T19:57:05.247416Z",
     "iopub.status.busy": "2021-01-07T19:57:05.245693Z",
     "iopub.status.idle": "2021-01-07T19:57:05.251322Z",
     "shell.execute_reply": "2021-01-07T19:57:05.250716Z"
    },
    "papermill": {
     "duration": 0.030924,
     "end_time": "2021-01-07T19:57:05.251428",
     "exception": false,
     "start_time": "2021-01-07T19:57:05.220504",
     "status": "completed"
    },
    "tags": []
   },
   "outputs": [
    {
     "data": {
      "text/plain": [
       "(29756, 2)"
      ]
     },
     "execution_count": 7,
     "metadata": {},
     "output_type": "execute_result"
    }
   ],
   "source": [
    "df.shape"
   ]
  },
  {
   "cell_type": "code",
   "execution_count": 8,
   "metadata": {
    "execution": {
     "iopub.execute_input": "2021-01-07T19:57:05.305377Z",
     "iopub.status.busy": "2021-01-07T19:57:05.304587Z",
     "iopub.status.idle": "2021-01-07T19:57:05.339071Z",
     "shell.execute_reply": "2021-01-07T19:57:05.338183Z"
    },
    "papermill": {
     "duration": 0.065895,
     "end_time": "2021-01-07T19:57:05.339261",
     "exception": false,
     "start_time": "2021-01-07T19:57:05.273366",
     "status": "completed"
    },
    "tags": []
   },
   "outputs": [
    {
     "name": "stdout",
     "output_type": "stream",
     "text": [
      "<class 'pandas.core.frame.DataFrame'>\n",
      "RangeIndex: 29756 entries, 0 to 29755\n",
      "Data columns (total 2 columns):\n",
      " #   Column  Non-Null Count  Dtype \n",
      "---  ------  --------------  ----- \n",
      " 0   text    29756 non-null  object\n",
      " 1   label   29756 non-null  object\n",
      "dtypes: object(2)\n",
      "memory usage: 465.1+ KB\n",
      "None\n",
      "\n",
      " NULL DEĞER \n",
      "text     0\n",
      "label    0\n",
      "dtype: int64\n"
     ]
    }
   ],
   "source": [
    "print(f\"{df.info()}\")\n",
    "print(f\"\\n NULL DEĞER \\n{df.isnull().sum()}\")"
   ]
  },
  {
   "cell_type": "markdown",
   "metadata": {
    "papermill": {
     "duration": 0.034778,
     "end_time": "2021-01-07T19:57:05.409532",
     "exception": false,
     "start_time": "2021-01-07T19:57:05.374754",
     "status": "completed"
    },
    "tags": []
   },
   "source": [
    "<a id=\"2\"></a> <br>\n",
    "\n",
    "# Data Visualization\n"
   ]
  },
  {
   "cell_type": "code",
   "execution_count": 9,
   "metadata": {
    "execution": {
     "iopub.execute_input": "2021-01-07T19:57:05.482528Z",
     "iopub.status.busy": "2021-01-07T19:57:05.481857Z",
     "iopub.status.idle": "2021-01-07T19:57:06.613740Z",
     "shell.execute_reply": "2021-01-07T19:57:06.613214Z"
    },
    "papermill": {
     "duration": 1.170176,
     "end_time": "2021-01-07T19:57:06.613856",
     "exception": false,
     "start_time": "2021-01-07T19:57:05.443680",
     "status": "completed"
    },
    "tags": []
   },
   "outputs": [],
   "source": [
    "import seaborn as sns\n",
    "import matplotlib.pyplot as plt\n"
   ]
  },
  {
   "cell_type": "code",
   "execution_count": 10,
   "metadata": {
    "execution": {
     "iopub.execute_input": "2021-01-07T19:57:06.672226Z",
     "iopub.status.busy": "2021-01-07T19:57:06.671528Z",
     "iopub.status.idle": "2021-01-07T19:57:06.812490Z",
     "shell.execute_reply": "2021-01-07T19:57:06.811867Z"
    },
    "papermill": {
     "duration": 0.17541,
     "end_time": "2021-01-07T19:57:06.812592",
     "exception": false,
     "start_time": "2021-01-07T19:57:06.637182",
     "status": "completed"
    },
    "tags": []
   },
   "outputs": [
    {
     "data": {
      "image/png": "[encoded data removed]",
      "text/plain": [
       "<Figure size 432x432 with 1 Axes>"
      ]
     },
     "metadata": {},
     "output_type": "display_data"
    }
   ],
   "source": [
    "plt.figure(figsize = (6,6))\n",
    "value_count_DF = df[\"label\"].value_counts()\n",
    "plt.pie(value_count_DF, labels = value_count_DF.index , startangle = 90,counterclock =False, wedgeprops = {'width' : 0.6},\n",
    "       autopct='%1.1f%%', pctdistance = 0.7, textprops = {'color': 'black', 'fontsize' : 18}, shadow = True,\n",
    "       colors = sns.color_palette(\"Paired\")[7:])\n",
    "plt.text(x = -0.35, y = 0, s = 'Toplam Veri : {}'.format(df.shape[0]))\n",
    "plt.title('Duygu Analizi Veri Seti Dağılımı', fontsize = 16);"
   ]
  },
  {
   "cell_type": "markdown",
   "metadata": {
    "papermill": {
     "duration": 0.023705,
     "end_time": "2021-01-07T19:57:06.860505",
     "exception": false,
     "start_time": "2021-01-07T19:57:06.836800",
     "status": "completed"
    },
    "tags": []
   },
   "source": [
    "<a id=\"3\"></a> <br>\n",
    "\n",
    "# Data Preprocessing\n"
   ]
  },
  {
   "cell_type": "code",
   "execution_count": 11,
   "metadata": {
    "execution": {
     "iopub.execute_input": "2021-01-07T19:57:06.911841Z",
     "iopub.status.busy": "2021-01-07T19:57:06.911254Z",
     "iopub.status.idle": "2021-01-07T19:57:07.784345Z",
     "shell.execute_reply": "2021-01-07T19:57:07.783709Z"
    },
    "papermill": {
     "duration": 0.900011,
     "end_time": "2021-01-07T19:57:07.784458",
     "exception": false,
     "start_time": "2021-01-07T19:57:06.884447",
     "status": "completed"
    },
    "tags": []
   },
   "outputs": [],
   "source": [
    "import string \n",
    "import nltk\n",
    "from nltk.corpus import stopwords\n",
    "from nltk.stem import WordNetLemmatizer"
   ]
  },
  {
   "cell_type": "code",
   "execution_count": 12,
   "metadata": {
    "execution": {
     "iopub.execute_input": "2021-01-07T19:57:07.853191Z",
     "iopub.status.busy": "2021-01-07T19:57:07.852458Z",
     "iopub.status.idle": "2021-01-07T19:57:12.991077Z",
     "shell.execute_reply": "2021-01-07T19:57:12.990418Z"
    },
    "papermill": {
     "duration": 5.182149,
     "end_time": "2021-01-07T19:57:12.991193",
     "exception": false,
     "start_time": "2021-01-07T19:57:07.809044",
     "status": "completed"
    },
    "tags": []
   },
   "outputs": [],
   "source": [
    "#CLEANING SPECIAL CHARACTERS\n",
    "def ozel_karakter (text):\n",
    "    punctation = string.punctuation\n",
    "    return text.translate(str.maketrans(\"\",\"\",punctation))\n",
    "\n",
    "#CLEANING THE STOP WORDS FROM THE DATA SET\n",
    "def stop_words_temizle (text):\n",
    "    words = set(stopwords.words(\"turkish\"))\n",
    "    return (' '.join([i for i in text if i not in words and not i.isnumeric()]))\n",
    "\n",
    "\n",
    "df[\"ozel_karakter\"] = df[\"text\"].apply(lambda x: ozel_karakter(x))\n",
    "df[\"ozel_karakter\"] = df[\"ozel_karakter\"].str.split()\n",
    "df[\"stop_word\"] = df[\"ozel_karakter\"].apply(lambda x : stop_words_temizle(x))"
   ]
  },
  {
   "cell_type": "code",
   "execution_count": 13,
   "metadata": {
    "execution": {
     "iopub.execute_input": "2021-01-07T19:57:13.046993Z",
     "iopub.status.busy": "2021-01-07T19:57:13.045262Z",
     "iopub.status.idle": "2021-01-07T19:57:13.059306Z",
     "shell.execute_reply": "2021-01-07T19:57:13.058640Z"
    },
    "papermill": {
     "duration": 0.043921,
     "end_time": "2021-01-07T19:57:13.059410",
     "exception": false,
     "start_time": "2021-01-07T19:57:13.015489",
     "status": "completed"
    },
    "tags": []
   },
   "outputs": [],
   "source": [
    "# VERİ SETİ İÇERİSİNDE İHTİYACIMIZ OLMAYAN SÜTUNLARI SİLİYORUZ\n",
    "df.drop([\"ozel_karakter\",\"text\"],inplace=True,axis=1)\n"
   ]
  },
  {
   "cell_type": "code",
   "execution_count": 14,
   "metadata": {
    "execution": {
     "iopub.execute_input": "2021-01-07T19:57:13.118633Z",
     "iopub.status.busy": "2021-01-07T19:57:13.117873Z",
     "iopub.status.idle": "2021-01-07T19:57:13.122498Z",
     "shell.execute_reply": "2021-01-07T19:57:13.123013Z"
    },
    "papermill": {
     "duration": 0.039154,
     "end_time": "2021-01-07T19:57:13.123146",
     "exception": false,
     "start_time": "2021-01-07T19:57:13.083992",
     "status": "completed"
    },
    "tags": []
   },
   "outputs": [
    {
     "data": {
      "text/html": [
       "<div>\n",
       "<style scoped>\n",
       "    .dataframe tbody tr th:only-of-type {\n",
       "        vertical-align: middle;\n",
       "    }\n",
       "\n",
       "    .dataframe tbody tr th {\n",
       "        vertical-align: top;\n",
       "    }\n",
       "\n",
       "    .dataframe thead th {\n",
       "        text-align: right;\n",
       "    }\n",
       "</style>\n",
       "<table border=\"1\" class=\"dataframe\">\n",
       "  <thead>\n",
       "    <tr style=\"text-align: right;\">\n",
       "      <th></th>\n",
       "      <th>label</th>\n",
       "      <th>stop_word</th>\n",
       "    </tr>\n",
       "  </thead>\n",
       "  <tbody>\n",
       "    <tr>\n",
       "      <th>0</th>\n",
       "      <td>pos</td>\n",
       "      <td>seneden fazladır kullanıyorum bence tavada iyi...</td>\n",
       "    </tr>\n",
       "    <tr>\n",
       "      <th>1</th>\n",
       "      <td>pos</td>\n",
       "      <td>urun guzel buyuk ekranli radyosu net cekiyo pa...</td>\n",
       "    </tr>\n",
       "    <tr>\n",
       "      <th>2</th>\n",
       "      <td>pos</td>\n",
       "      <td>fi̇yata güzel bi̇r ürün tavsi̇ye ederi̇myanliz...</td>\n",
       "    </tr>\n",
       "    <tr>\n",
       "      <th>3</th>\n",
       "      <td>pos</td>\n",
       "      <td>hoş bir ürünlekeleri çıkarmada başarılı özelli...</td>\n",
       "    </tr>\n",
       "    <tr>\n",
       "      <th>4</th>\n",
       "      <td>pos</td>\n",
       "      <td>sonuç olarak bence fiyatkalite oranı yüksek bi...</td>\n",
       "    </tr>\n",
       "  </tbody>\n",
       "</table>\n",
       "</div>"
      ],
      "text/plain": [
       "  label                                          stop_word\n",
       "0   pos  seneden fazladır kullanıyorum bence tavada iyi...\n",
       "1   pos  urun guzel buyuk ekranli radyosu net cekiyo pa...\n",
       "2   pos  fi̇yata güzel bi̇r ürün tavsi̇ye ederi̇myanliz...\n",
       "3   pos  hoş bir ürünlekeleri çıkarmada başarılı özelli...\n",
       "4   pos  sonuç olarak bence fiyatkalite oranı yüksek bi..."
      ]
     },
     "execution_count": 14,
     "metadata": {},
     "output_type": "execute_result"
    }
   ],
   "source": [
    "df.head()"
   ]
  },
  {
   "cell_type": "markdown",
   "metadata": {
    "papermill": {
     "duration": 0.024453,
     "end_time": "2021-01-07T19:57:13.172633",
     "exception": false,
     "start_time": "2021-01-07T19:57:13.148180",
     "status": "completed"
    },
    "tags": []
   },
   "source": [
    "<a id=\"4\"></a> <br>\n",
    "\n",
    "# Train Test Split"
   ]
  },
  {
   "cell_type": "code",
   "execution_count": 15,
   "metadata": {
    "execution": {
     "iopub.execute_input": "2021-01-07T19:57:13.360292Z",
     "iopub.status.busy": "2021-01-07T19:57:13.358667Z",
     "iopub.status.idle": "2021-01-07T19:57:13.474063Z",
     "shell.execute_reply": "2021-01-07T19:57:13.472552Z"
    },
    "papermill": {
     "duration": 0.276904,
     "end_time": "2021-01-07T19:57:13.474248",
     "exception": false,
     "start_time": "2021-01-07T19:57:13.197344",
     "status": "completed"
    },
    "tags": []
   },
   "outputs": [],
   "source": [
    "from sklearn.model_selection import train_test_split\n",
    "\n",
    "X_train,X_test,Y_train,Y_test = train_test_split(df[\"stop_word\"].values.astype('U'),\n",
    "                                                 df[\"label\"].values.astype('U'),\n",
    "                                                 test_size=0.2,\n",
    "                                                 random_state=42)\n"
   ]
  },
  {
   "cell_type": "markdown",
   "metadata": {
    "papermill": {
     "duration": 0.037033,
     "end_time": "2021-01-07T19:57:13.552351",
     "exception": false,
     "start_time": "2021-01-07T19:57:13.515318",
     "status": "completed"
    },
    "tags": []
   },
   "source": [
    "<a id=\"5\"></a> <br>\n",
    "\n",
    "## Count Vectorizer"
   ]
  },
  {
   "cell_type": "code",
   "execution_count": 16,
   "metadata": {
    "execution": {
     "iopub.execute_input": "2021-01-07T19:57:13.660714Z",
     "iopub.status.busy": "2021-01-07T19:57:13.659601Z",
     "iopub.status.idle": "2021-01-07T19:57:14.831361Z",
     "shell.execute_reply": "2021-01-07T19:57:14.830442Z"
    },
    "papermill": {
     "duration": 1.241612,
     "end_time": "2021-01-07T19:57:14.831533",
     "exception": false,
     "start_time": "2021-01-07T19:57:13.589921",
     "status": "completed"
    },
    "tags": []
   },
   "outputs": [
    {
     "name": "stdout",
     "output_type": "stream",
     "text": [
      "(23804, 66866)\n"
     ]
    }
   ],
   "source": [
    "# COUNT VECTORİZE İLE SAYMA VEKTÖRLERİ OLUŞTURMA\n",
    "from sklearn.feature_extraction.text import CountVectorizer\n",
    "\n",
    "count_vect = CountVectorizer()\n",
    "X_train_counts = count_vect.fit_transform(X_train)\n",
    "print(X_train_counts.shape)"
   ]
  },
  {
   "cell_type": "markdown",
   "metadata": {
    "papermill": {
     "duration": 0.029741,
     "end_time": "2021-01-07T19:57:14.887807",
     "exception": false,
     "start_time": "2021-01-07T19:57:14.858066",
     "status": "completed"
    },
    "tags": []
   },
   "source": [
    "<a id=\"6\"></a> <br>\n",
    "\n",
    "## TFIDF Vecktorizer"
   ]
  },
  {
   "cell_type": "markdown",
   "metadata": {
    "papermill": {
     "duration": 0.025869,
     "end_time": "2021-01-07T19:57:14.940130",
     "exception": false,
     "start_time": "2021-01-07T19:57:14.914261",
     "status": "completed"
    },
    "tags": []
   },
   "source": []
  },
  {
   "cell_type": "code",
   "execution_count": 17,
   "metadata": {
    "execution": {
     "iopub.execute_input": "2021-01-07T19:57:14.995128Z",
     "iopub.status.busy": "2021-01-07T19:57:14.994259Z",
     "iopub.status.idle": "2021-01-07T19:57:15.084304Z",
     "shell.execute_reply": "2021-01-07T19:57:15.083553Z"
    },
    "papermill": {
     "duration": 0.118627,
     "end_time": "2021-01-07T19:57:15.084432",
     "exception": false,
     "start_time": "2021-01-07T19:57:14.965805",
     "status": "completed"
    },
    "tags": []
   },
   "outputs": [
    {
     "name": "stdout",
     "output_type": "stream",
     "text": [
      "(23804, 66866)\n"
     ]
    }
   ],
   "source": [
    "# TFİIDF VEKTÖRÜ OLUŞTURMA SAYMA VEKTÖRLERİNİ TFIDF VEKTÖRLERİNE DÖNÜŞTÜRÜCEZ\n",
    "\n",
    "from sklearn.feature_extraction.text import TfidfTransformer\n",
    "tfidf =TfidfTransformer() \n",
    "X_train_tfidf= tfidf.fit_transform(X_train_counts)\n",
    "print(X_train_tfidf.shape)"
   ]
  },
  {
   "cell_type": "markdown",
   "metadata": {
    "papermill": {
     "duration": 0.038131,
     "end_time": "2021-01-07T19:57:15.161050",
     "exception": false,
     "start_time": "2021-01-07T19:57:15.122919",
     "status": "completed"
    },
    "tags": []
   },
   "source": [
    "<a id=\"7\"></a> <br>\n",
    "\n",
    "# Train Model - Multinomial Naive Bayes Algorithm"
   ]
  },
  {
   "cell_type": "code",
   "execution_count": 18,
   "metadata": {
    "execution": {
     "iopub.execute_input": "2021-01-07T19:57:15.243624Z",
     "iopub.status.busy": "2021-01-07T19:57:15.242994Z",
     "iopub.status.idle": "2021-01-07T19:57:15.625908Z",
     "shell.execute_reply": "2021-01-07T19:57:15.625368Z"
    },
    "papermill": {
     "duration": 0.426693,
     "end_time": "2021-01-07T19:57:15.626053",
     "exception": false,
     "start_time": "2021-01-07T19:57:15.199360",
     "status": "completed"
    },
    "tags": []
   },
   "outputs": [],
   "source": [
    "# ÇOK MODLU NAIVE BAYES SINIFLANDIRICI EĞİTİYORUZ\n",
    "\n",
    "from sklearn.naive_bayes import MultinomialNB\n",
    "\n",
    "mnb = MultinomialNB()\n",
    "clf = mnb.fit(X_train_tfidf, Y_train)\n",
    "\n",
    "X_test_counts = count_vect.transform(X_test)\n",
    "X_test_tfidf = tfidf.transform(X_test_counts)\n"
   ]
  },
  {
   "cell_type": "markdown",
   "metadata": {
    "papermill": {
     "duration": 0.025718,
     "end_time": "2021-01-07T19:57:15.678017",
     "exception": false,
     "start_time": "2021-01-07T19:57:15.652299",
     "status": "completed"
    },
    "tags": []
   },
   "source": [
    "<a id=\"8\"></a> <br>\n",
    "\n",
    "## Prediction to model"
   ]
  },
  {
   "cell_type": "code",
   "execution_count": 19,
   "metadata": {
    "execution": {
     "iopub.execute_input": "2021-01-07T19:57:15.737531Z",
     "iopub.status.busy": "2021-01-07T19:57:15.736850Z",
     "iopub.status.idle": "2021-01-07T19:57:15.746388Z",
     "shell.execute_reply": "2021-01-07T19:57:15.745827Z"
    },
    "papermill": {
     "duration": 0.042449,
     "end_time": "2021-01-07T19:57:15.746516",
     "exception": false,
     "start_time": "2021-01-07T19:57:15.704067",
     "status": "completed"
    },
    "tags": []
   },
   "outputs": [
    {
     "name": "stdout",
     "output_type": "stream",
     "text": [
      "\n",
      " 'kitap biraz değil basit olmuş biraz açmalıydı konuları verdiği bilgiler güzel akılda kalıcı olmuyor maalesef kısa tutmuş işte' => neg\n",
      "\n",
      " 'buradaki yorumlara bakarak aldım ürünü yazıklar olsunfırçayı düşük ayarda saniye yüzüme sürdüm gün batma hissi devam ettisanki yüz fırçası değil ayak törpüsü asla tavsiye etmem' => neg\n",
      "\n",
      " 'artıları şık kaliteli tasarım ekran kasa oranı full hd gün ışığında bile rahat kullanılan ekran g cat7 desteği hızlı download upload hızı demek usb typec önde flaş olması 32gb rom 3gb ram saf android takılma kasma yok android one platformunda olduğu yıl güncelleme garantisi ilk telefonun alacak olmasıfiyat performans oranı makul bir işlemci snapdragon güncel oyunlarda bile kasmayan grafik işlemcisi' => pos\n",
      "\n",
      " 'ürün telefonla birebir uyumlu kalitesi fiyata göre iyi' => pos\n",
      "\n",
      " 'kurulumu kolay değil elinizde yaralar bile oluşabilirhızlı gonderi oluyorspor aleti ciddi kalori yaktriyorgürültülü olduğu kesin100 kg üstünde çatır çatır seslerde geliyoralırken bunları düşünün' => neg\n"
     ]
    }
   ],
   "source": [
    "#Measuring Model Performance\n",
    "\n",
    "y_pred = clf.predict(X_test_tfidf)\n",
    "\n",
    "for text, sentiment in zip(X_test[:5],y_pred[:]):\n",
    "    print(\"\\n %r => %s\" %(text,sentiment ))"
   ]
  },
  {
   "cell_type": "code",
   "execution_count": 20,
   "metadata": {
    "execution": {
     "iopub.execute_input": "2021-01-07T19:57:15.803003Z",
     "iopub.status.busy": "2021-01-07T19:57:15.802381Z",
     "iopub.status.idle": "2021-01-07T19:57:15.812914Z",
     "shell.execute_reply": "2021-01-07T19:57:15.812090Z"
    },
    "papermill": {
     "duration": 0.039554,
     "end_time": "2021-01-07T19:57:15.813068",
     "exception": false,
     "start_time": "2021-01-07T19:57:15.773514",
     "status": "completed"
    },
    "tags": []
   },
   "outputs": [
    {
     "name": "stdout",
     "output_type": "stream",
     "text": [
      "0.8363575268817204\n"
     ]
    }
   ],
   "source": [
    "# Test Result\n",
    "\n",
    "from sklearn.metrics import accuracy_score\n",
    "print(accuracy_score(Y_test,y_pred))"
   ]
  }
 ],
 "metadata": {
  "kernelspec": {
   "display_name": "Python 3",
   "language": "python",
   "name": "python3"
  },
  "language_info": {
   "codemirror_mode": {
    "name": "ipython",
    "version": 3
   },
   "file_extension": ".py",
   "mimetype": "text/x-python",
   "name": "python",
   "nbconvert_exporter": "python",
   "pygments_lexer": "ipython3",
   "version": "3.7.6"
  },
  "papermill": {
   "duration": 19.025519,
   "end_time": "2021-01-07T19:57:16.915689",
   "environment_variables": {},
   "exception": null,
   "input_path": "__notebook__.ipynb",
   "output_path": "__notebook__.ipynb",
   "parameters": {},
   "start_time": "2021-01-07T19:56:57.890170",
   "version": "2.1.0"
  }
 },
 "nbformat": 4,
 "nbformat_minor": 4
}
